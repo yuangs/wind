{
 "cells": [
  {
   "cell_type": "code",
   "execution_count": 106,
   "metadata": {
    "collapsed": true
   },
   "outputs": [],
   "source": [
    "import pandas as pd\n",
    "import  sqlite3\n",
    "% matplotlib inline\n",
    "import pyecharts as ec\n",
    "import matplotlib.pyplot as plt  \n",
    "#中文字体显示  \n",
    "plt.rc('font', family='SimHei', size=13)"
   ]
  },
  {
   "cell_type": "code",
   "execution_count": 13,
   "metadata": {
    "collapsed": true
   },
   "outputs": [],
   "source": [
    "con=sqlite3.connect(r'd:\\aliyun\\www\\my_flask\\marketPrice\\FutureMarketPrice.db')"
   ]
  },
  {
   "cell_type": "code",
   "execution_count": 229,
   "metadata": {
    "collapsed": true
   },
   "outputs": [],
   "source": [
    "sql1='''select date,code as code1,close as close1 from \"FutureMarketPrice\" where code like \"RB__01\" and oi>50000; '''\n",
    "sql5='''select date,code as code5,close as close5 from \"FutureMarketPrice\" where code like \"RB__05\" and oi>50000; '''\n",
    "sql10='''select date,code as code10,close as close10 from \"FutureMarketPrice\" where code like \"RB__10\" and oi>50000; '''"
   ]
  },
  {
   "cell_type": "code",
   "execution_count": 212,
   "metadata": {
    "collapsed": true
   },
   "outputs": [],
   "source": [
    "sql1='''select date,code as code1,close as close1 from \"FutureMarketPrice\" where code like \"RB__01\"; '''\n",
    "sql5='''select date,code as code5,close as close5 from \"FutureMarketPrice\" where code like \"RB__05\"; '''\n",
    "sql10='''select date,code as code10,close as close10 from \"FutureMarketPrice\" where code like \"RB__10\" ; '''"
   ]
  },
  {
   "cell_type": "code",
   "execution_count": 230,
   "metadata": {
    "collapsed": true
   },
   "outputs": [],
   "source": [
    "rb1=pd.read_sql(sql1,con)\n",
    "rb5=pd.read_sql(sql5,con)\n",
    "rb10=pd.read_sql(sql10,con)"
   ]
  },
  {
   "cell_type": "code",
   "execution_count": 231,
   "metadata": {
    "collapsed": true
   },
   "outputs": [],
   "source": [
    "rb1.set_index('date',inplace=True)\n",
    "rb5.set_index('date',inplace=True)\n",
    "rb10.set_index('date',inplace=True)"
   ]
  },
  {
   "cell_type": "code",
   "execution_count": 232,
   "metadata": {
    "collapsed": true
   },
   "outputs": [],
   "source": [
    "df=pd.merge(pd.merge(rb1,rb5,how='inner',left_index=True,right_index=True),rb10,how='inner',left_index=True,right_index=True)"
   ]
  },
  {
   "cell_type": "code",
   "execution_count": 233,
   "metadata": {},
   "outputs": [
    {
     "data": {
      "text/html": [
       "<div>\n",
       "<style>\n",
       "    .dataframe thead tr:only-child th {\n",
       "        text-align: right;\n",
       "    }\n",
       "\n",
       "    .dataframe thead th {\n",
       "        text-align: left;\n",
       "    }\n",
       "\n",
       "    .dataframe tbody tr th {\n",
       "        vertical-align: top;\n",
       "    }\n",
       "</style>\n",
       "<table border=\"1\" class=\"dataframe\">\n",
       "  <thead>\n",
       "    <tr style=\"text-align: right;\">\n",
       "      <th></th>\n",
       "      <th>code1</th>\n",
       "      <th>close1</th>\n",
       "      <th>code5</th>\n",
       "      <th>close5</th>\n",
       "      <th>code10</th>\n",
       "      <th>close10</th>\n",
       "    </tr>\n",
       "    <tr>\n",
       "      <th>date</th>\n",
       "      <th></th>\n",
       "      <th></th>\n",
       "      <th></th>\n",
       "      <th></th>\n",
       "      <th></th>\n",
       "      <th></th>\n",
       "    </tr>\n",
       "  </thead>\n",
       "  <tbody>\n",
       "    <tr>\n",
       "      <th>20091126</th>\n",
       "      <td>RB1001</td>\n",
       "      <td>3885.0</td>\n",
       "      <td>RB1005</td>\n",
       "      <td>4494.0</td>\n",
       "      <td>RB1010</td>\n",
       "      <td>4738.0</td>\n",
       "    </tr>\n",
       "    <tr>\n",
       "      <th>20091202</th>\n",
       "      <td>RB1001</td>\n",
       "      <td>3766.0</td>\n",
       "      <td>RB1005</td>\n",
       "      <td>4377.0</td>\n",
       "      <td>RB1010</td>\n",
       "      <td>4685.0</td>\n",
       "    </tr>\n",
       "    <tr>\n",
       "      <th>20091203</th>\n",
       "      <td>RB1001</td>\n",
       "      <td>3774.0</td>\n",
       "      <td>RB1005</td>\n",
       "      <td>4385.0</td>\n",
       "      <td>RB1010</td>\n",
       "      <td>4704.0</td>\n",
       "    </tr>\n",
       "    <tr>\n",
       "      <th>20091204</th>\n",
       "      <td>RB1001</td>\n",
       "      <td>3784.0</td>\n",
       "      <td>RB1005</td>\n",
       "      <td>4374.0</td>\n",
       "      <td>RB1010</td>\n",
       "      <td>4690.0</td>\n",
       "    </tr>\n",
       "    <tr>\n",
       "      <th>20091207</th>\n",
       "      <td>RB1001</td>\n",
       "      <td>3775.0</td>\n",
       "      <td>RB1005</td>\n",
       "      <td>4373.0</td>\n",
       "      <td>RB1010</td>\n",
       "      <td>4721.0</td>\n",
       "    </tr>\n",
       "  </tbody>\n",
       "</table>\n",
       "</div>"
      ],
      "text/plain": [
       "           code1  close1   code5  close5  code10  close10\n",
       "date                                                     \n",
       "20091126  RB1001  3885.0  RB1005  4494.0  RB1010   4738.0\n",
       "20091202  RB1001  3766.0  RB1005  4377.0  RB1010   4685.0\n",
       "20091203  RB1001  3774.0  RB1005  4385.0  RB1010   4704.0\n",
       "20091204  RB1001  3784.0  RB1005  4374.0  RB1010   4690.0\n",
       "20091207  RB1001  3775.0  RB1005  4373.0  RB1010   4721.0"
      ]
     },
     "execution_count": 233,
     "metadata": {},
     "output_type": "execute_result"
    }
   ],
   "source": [
    "df.to_clipboard()\n",
    "df.head()"
   ]
  },
  {
   "cell_type": "code",
   "execution_count": 234,
   "metadata": {},
   "outputs": [],
   "source": [
    "df['fm']=df.close10-df.close5\n",
    "ifs=df.code10>df.code5\n",
    "df['ifs_2']=ifs"
   ]
  },
  {
   "cell_type": "code",
   "execution_count": 235,
   "metadata": {},
   "outputs": [],
   "source": [
    "df.loc[ifs,'fm']=df.loc[ifs,'fm']/5\n",
    "df.loc[~ifs,'fm']=-df.loc[~ifs,'fm']/7"
   ]
  },
  {
   "cell_type": "code",
   "execution_count": 236,
   "metadata": {},
   "outputs": [],
   "source": [
    "df.to_clipboard()"
   ]
  },
  {
   "cell_type": "code",
   "execution_count": 227,
   "metadata": {},
   "outputs": [
    {
     "data": {
      "text/plain": [
       "count    3517.000000\n",
       "mean      -12.037467\n",
       "std        34.551258\n",
       "min      -163.400000\n",
       "25%       -37.200000\n",
       "50%        -9.400000\n",
       "75%         9.200000\n",
       "max        93.600000\n",
       "Name: fm, dtype: float64"
      ]
     },
     "execution_count": 227,
     "metadata": {},
     "output_type": "execute_result"
    }
   ],
   "source": [
    "df.fm.describe()"
   ]
  },
  {
   "cell_type": "code",
   "execution_count": 228,
   "metadata": {},
   "outputs": [
    {
     "data": {
      "text/plain": [
       "<matplotlib.axes._subplots.AxesSubplot at 0xb6476b0>"
      ]
     },
     "execution_count": 228,
     "metadata": {},
     "output_type": "execute_result"
    },
    {
     "data": {
      "image/png": "[encoded data removed]",
      "text/plain": [
       "<matplotlib.figure.Figure at 0xb64dc50>"
      ]
     },
     "metadata": {},
     "output_type": "display_data"
    }
   ],
   "source": [
    "(df.fm).plot(figsize=(12,4))"
   ]
  },
  {
   "cell_type": "code",
   "execution_count": null,
   "metadata": {},
   "outputs": [],
   "source": []
  },
  {
   "cell_type": "code",
   "execution_count": null,
   "metadata": {
    "collapsed": true
   },
   "outputs": [],
   "source": []
  }
 ],
 "metadata": {
  "kernelspec": {
   "display_name": "Python 3",
   "language": "python",
   "name": "python3"
  },
  "language_info": {
   "codemirror_mode": {
    "name": "ipython",
    "version": 3
   },
   "file_extension": ".py",
   "mimetype": "text/x-python",
   "name": "python",
   "nbconvert_exporter": "python",
   "pygments_lexer": "ipython3",
   "version": "3.6.1"
  }
 },
 "nbformat": 4,
 "nbformat_minor": 2
}
