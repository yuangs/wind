{
 "cells": [
  {
   "cell_type": "markdown",
   "metadata": {},
   "source": [
    "#### 期货市场行情与基本面数据"
   ]
  },
  {
   "cell_type": "markdown",
   "metadata": {},
   "source": [
    "期货数据可以从新浪财经数据接口获取，基本面数据可以通过通联数据接口获取。"
   ]
  },
  {
   "cell_type": "code",
   "execution_count": 1,
   "metadata": {
    "collapsed": true
   },
   "outputs": [],
   "source": [
    "import pandas as pd\n",
    "import json\n",
    "import requests\n",
    "import pyecharts\n",
    "import matplotlib.pyplot as plt  \n",
    "import datetime as dt\n",
    "import ssl\n",
    "from pyecharts import Line\n",
    "ssl._create_default_https_context = ssl._create_unverified_context\n",
    "#中文字体显示  \n",
    "plt.rc('font', family='SimHei', size=13)\n",
    "%matplotlib inline"
   ]
  },
  {
   "cell_type": "code",
   "execution_count": null,
   "metadata": {
    "collapsed": true
   },
   "outputs": [],
   "source": [
    "#新浪财经的实时价格数据\n",
    "def future_quote_sina(exchange='all', flag=1):\n",
    "    '''获取新浪期货全部合约即时行情数据,默认取全部交易所主力合约，取特定交易所主力或全部合约，用参数来指定\n",
    "    para:\n",
    "        exchange:   all,shfe,dce,czce\n",
    "        flag:       1（active contracts),0(non-active contracts),2(all contracts)\n",
    "    result:\n",
    "        dataframe\n",
    "    '''\n",
    "    r = requests.get(\n",
    "        'http://money.finance.sina.com.cn/d/api/openapi_proxy.php/?__s=[[%22qhhq%22,%22qbhy%22,%22zdf%22,1000]]')\n",
    "    data = r.text\n",
    "    data = json.loads(data)\n",
    "    d = data[0]\n",
    "    df = pd.DataFrame(d['items'], columns=d['fields'])\n",
    "    df = df.apply(lambda x: pd.to_numeric(x, errors='ignore'))  #\n",
    "    df.replace({'name':{'\\d+':''}},regex=True,inplace=True)\n",
    "    # 交易所主力合约：df[(df.market=='dce')& (df.is_hot=='1')]\n",
    "    # 全部主力合约：df[(df.market=='all')& (df.is_hot=='1')]\n",
    "    # 交易所合约：df[(df.market=='dce')]\n",
    "    df.set_index('symbol',inplace=True)\n",
    "    if exchange == 'all':\n",
    "        if flag == 0:\n",
    "            # flag=0,返回四大交易所非主力合约\n",
    "            return df[df.is_hot == flag].sort_values('volume', ascending=False)\n",
    "        elif flag==1:\n",
    "            #flag=1,返回四大交易所主力合约\n",
    "            return df[df.is_hot >= flag].sort_values('volume', ascending=False)\n",
    "        elif flag==-1:\n",
    "            # flag=-1,返回四大交易所全部合约\n",
    "            return df.sort_values('volume', ascending=False)\n",
    "    else:\n",
    "            # 指定交易所主力（非主力）合约\n",
    "        if flag == 0:\n",
    "            #返回指定交易所非主力合约\n",
    "            return df[(df.market == exchange) & (df.is_hot == flag)].sort_values('volume', ascending=False)\n",
    "        elif flag == 1:\n",
    "            #返回指定交易所非主力合约\n",
    "            return df[(df.market == exchange) & (df.is_hot >= flag)].sort_values('volume', ascending=False)\n",
    "        else:\n",
    "            # 指定交易所全部合约\n",
    "            return df[df.market == exchange].sort_values('volume', ascending=False)\n",
    "\n",
    "f=future_quote_sina('all',-1)\n"
   ]
  },
  {
   "cell_type": "code",
   "execution_count": null,
   "metadata": {
    "collapsed": true
   },
   "outputs": [],
   "source": [
    "def tongLianData(indicId=2020100024,start=20100101,end=20171231):\n",
    "    url='https://gw.wmcloud.com/rrp/mobile/whitelist/data?indicID=%s&beginDate=%s&endDate=%s'%(indicId,start,end)\n",
    "    print(url)\n",
    "    f=pd.read_json(url)\n",
    "    d=pd.DataFrame(f.loc['dataDetail','dataDetailNewList'])\n",
    "    d.columns=['data','date']\n",
    "    d.index=d.date.map(lambda x: dt.datetime.fromtimestamp(x/1000))\n",
    "    del d['date']\n",
    "    d.sort_index(inplace=True)\n",
    "    data=Line()\n",
    "    attr=list(d.index.to_datetime().strftime('%Y%m%d'))\n",
    "    price=list(d.data)\n",
    "    data.add(f.loc['name','dataDetailNewList'],attr,price)\n",
    "    return data.render_notebook()\n",
    "    \n",
    "def main():\n",
    "    from tkinter import Tk\n",
    "    r = Tk()\n",
    "    # read the clipboard\n",
    "    c = r.clipboard_get()\n",
    "    # print(c)\n",
    "    return tongLianData(c)"
   ]
  },
  {
   "cell_type": "code",
   "execution_count": null,
   "metadata": {
    "collapsed": true,
    "scrolled": true
   },
   "outputs": [],
   "source": [
    "main()"
   ]
  },
  {
   "cell_type": "code",
   "execution_count": null,
   "metadata": {
    "collapsed": true
   },
   "outputs": [],
   "source": []
  },
  {
   "cell_type": "code",
   "execution_count": null,
   "metadata": {
    "collapsed": true,
    "scrolled": true
   },
   "outputs": [],
   "source": [
    "import re\n",
    "from urllib import parse\n",
    "files=open(r\"C:\\Users\\Administrator\\Desktop\\report.txt\").readlines()\n",
    "def download_report(url,title,doctype):\n",
    "    path=r'D:\\aliyun\\Work\\zjt\\%s' %title\n",
    "    print(path)\n",
    "    response = requests.get(url)\n",
    "    with open(path+'.'+doctype, 'wb') as f:\n",
    "        f.write(response.content)\n",
    "\n",
    "for raw_url in files:\n",
    "    url=raw_url.strip('\\n')\n",
    "    url=parse.unquote(str(url))\n",
    "    print(url)\n",
    "    title=re.search('(?<=bulletin/).*?(?=\\.)',str(url)).group()\n",
    "    doctype=re.search('(?<=\\.)\\w{3}?(?=\\?)',str(url)).group()\n",
    "    print(title)\n",
    "    try:\n",
    "        download_report(url,title,doctype)\n",
    "    except:\n",
    "        print(\"error:%s\\n%s\" %(url))"
   ]
  },
  {
   "cell_type": "code",
   "execution_count": null,
   "metadata": {
    "collapsed": true
   },
   "outputs": [],
   "source": [
    "url='http://snap.windin.com/bulletin/%E5%91%A8%E6%9C%9F%E4%B9%8B%E8%BD%AE%EF%BC%8814%EF%BC%89%EF%BC%9A%E5%91%A8%E6%9C%9F%E8%BD%AC%E6%8D%A2%EF%BC%9A%E4%BC%B0%E5%80%BC%E5%BC%B9%E6%80%A7%E4%B8%8E%E4%BB%B7%E6%A0%BC%E5%BC%B9%E6%80%A7.pdf?rppsid=45156382&mediatype=16&pkid=383924815'"
   ]
  },
  {
   "cell_type": "code",
   "execution_count": null,
   "metadata": {
    "collapsed": true
   },
   "outputs": [],
   "source": [
    "title='周期之轮（14）：周期转换：估值弹性与价格弹性'"
   ]
  },
  {
   "cell_type": "code",
   "execution_count": null,
   "metadata": {
    "collapsed": true
   },
   "outputs": [],
   "source": [
    "download_report(url,title,'pdf')\n"
   ]
  },
  {
   "cell_type": "code",
   "execution_count": null,
   "metadata": {
    "collapsed": true
   },
   "outputs": [],
   "source": [
    "import requests\n",
    "headers={'User-agent':'Mozilla/5.0 (Windows NT 6.1; Win64; x64) AppleWebKit/537.36 (KHTML, like Gecko) Chrome/60.0.3112.90 Safari/537.36'}\n",
    "resp = requests.head(r'https://www.python.org/',headers=headers)\n",
    "\n",
    "status = resp.status_code\n",
    "last_modified = resp.headers['last-modified']\n",
    "content_type = resp.headers['content-type']\n",
    "content_length = resp.headers['content-length']\n",
    "resp.text"
   ]
  },
  {
   "cell_type": "code",
   "execution_count": null,
   "metadata": {
    "collapsed": true
   },
   "outputs": [],
   "source": [
    "content_type"
   ]
  },
  {
   "cell_type": "code",
   "execution_count": null,
   "metadata": {},
   "outputs": [
    {
     "name": "stdout",
     "output_type": "stream",
     "text": [
      "Got connection from ('127.0.0.1', 55341)\n"
     ]
    }
   ],
   "source": [
    "from socketserver import BaseRequestHandler, UDPServer\n",
    "import time\n",
    "\n",
    "class TimeHandler(BaseRequestHandler):\n",
    "    def handle(self):\n",
    "        print('Got connection from', self.client_address)\n",
    "        # Get message and client socket\n",
    "        msg, sock = self.request\n",
    "        resp = time.ctime()\n",
    "        sock.sendto(resp.encode('ascii'), self.client_address)\n",
    "\n",
    "if __name__ == '__main__':\n",
    "    serv = UDPServer(('', 20000), TimeHandler)\n",
    "    serv.serve_forever()"
   ]
  },
  {
   "cell_type": "code",
   "execution_count": 1,
   "metadata": {},
   "outputs": [
    {
     "ename": "ModuleNotFoundError",
     "evalue": "No module named 'resty'",
     "output_type": "error",
     "traceback": [
      "\u001b[1;31m---------------------------------------------------------------------------\u001b[0m",
      "\u001b[1;31mModuleNotFoundError\u001b[0m                       Traceback (most recent call last)",
      "\u001b[1;32m<ipython-input-1-24596e82a277>\u001b[0m in \u001b[0;36m<module>\u001b[1;34m()\u001b[0m\n\u001b[0;32m     32\u001b[0m \u001b[1;33m\u001b[0m\u001b[0m\n\u001b[0;32m     33\u001b[0m \u001b[1;32mif\u001b[0m \u001b[0m__name__\u001b[0m \u001b[1;33m==\u001b[0m \u001b[1;34m'__main__'\u001b[0m\u001b[1;33m:\u001b[0m\u001b[1;33m\u001b[0m\u001b[0m\n\u001b[1;32m---> 34\u001b[1;33m     \u001b[1;32mfrom\u001b[0m \u001b[0mresty\u001b[0m \u001b[1;32mimport\u001b[0m \u001b[0mPathDispatcher\u001b[0m\u001b[1;33m\u001b[0m\u001b[0m\n\u001b[0m\u001b[0;32m     35\u001b[0m     \u001b[1;32mfrom\u001b[0m \u001b[0mwsgiref\u001b[0m\u001b[1;33m.\u001b[0m\u001b[0msimple_server\u001b[0m \u001b[1;32mimport\u001b[0m \u001b[0mmake_server\u001b[0m\u001b[1;33m\u001b[0m\u001b[0m\n\u001b[0;32m     36\u001b[0m \u001b[1;33m\u001b[0m\u001b[0m\n",
      "\u001b[1;31mModuleNotFoundError\u001b[0m: No module named 'resty'"
     ]
    }
   ],
   "source": [
    "import time\n",
    "\n",
    "_hello_resp = '''\\\n",
    "<html>\n",
    "  <head>\n",
    "     <title>Hello {name}</title>\n",
    "   </head>\n",
    "   <body>\n",
    "     <h1>Hello {name}!</h1>\n",
    "   </body>\n",
    "</html>'''\n",
    "\n",
    "def hello_world(environ, start_response):\n",
    "    start_response('200 OK', [ ('Content-type','text/html')])\n",
    "    params = environ['params']\n",
    "    resp = _hello_resp.format(name=params.get('name'))\n",
    "    yield resp.encode('utf-8')\n",
    "\n",
    "_localtime_resp = '''\\\n",
    "<?xml version=\"1.0\"?>\n",
    "<time>\n",
    "  <year>{t.tm_year}</year>\n",
    "  <month>{t.tm_mon}</month>\n",
    "  <day>{t.tm_mday}</day>\n",
    "  <hour>{t.tm_hour}</hour>\n",
    "  <minute>{t.tm_min}</minute>\n",
    "  <second>{t.tm_sec}</second>\n",
    "</time>'''\n",
    "\n",
    "def localtime(environ, start_response):\n",
    "    start_response('200 OK', [ ('Content-type', 'application/xml') ])\n",
    "    resp = _localtime_resp.format(t=time.localtime())\n",
    "    yield resp.encode('utf-8')\n",
    "\n",
    "if __name__ == '__main__':\n",
    "    from resty import PathDispatcher\n",
    "    from wsgiref.simple_server import make_server\n",
    "\n",
    "    # Create the dispatcher and register functions\n",
    "    dispatcher = PathDispatcher()\n",
    "    dispatcher.register('GET', '/hello', hello_world)\n",
    "    dispatcher.register('GET', '/localtime', localtime)\n",
    "\n",
    "    # Launch a basic server\n",
    "    httpd = make_server('', 8080, dispatcher)\n",
    "    print('Serving on port 8080...')\n",
    "    httpd.serve_forever()"
   ]
  },
  {
   "cell_type": "code",
   "execution_count": 4,
   "metadata": {
    "collapsed": true
   },
   "outputs": [],
   "source": [
    "import os\n",
    "names = os.listdir(r'c:\\Users\\Administrator\\Desktop')"
   ]
  },
  {
   "cell_type": "code",
   "execution_count": 5,
   "metadata": {},
   "outputs": [
    {
     "data": {
      "text/plain": [
       "['Axure RP.lnk',\n",
       " 'desktop.ini',\n",
       " 'Fiddler 4.lnk',\n",
       " 'Foxmail.lnk',\n",
       " 'PyCharm.lnk',\n",
       " 'report.txt',\n",
       " 'Sublime Text 3.lnk',\n",
       " 'Total Commander 64 bit.lnk',\n",
       " '~$财富与同花顺交易客户端功能详细对比.docx',\n",
       " '~WRL0005.tmp',\n",
       " '东方财富.lnk',\n",
       " '交易软件',\n",
       " '功能搜索',\n",
       " '功能搜索.txt',\n",
       " '新股申购.rp',\n",
       " '现货黄金_wind.png',\n",
       " '赢顺通用版.lnk']"
      ]
     },
     "execution_count": 5,
     "metadata": {},
     "output_type": "execute_result"
    }
   ],
   "source": [
    "names"
   ]
  },
  {
   "cell_type": "code",
   "execution_count": 6,
   "metadata": {
    "collapsed": true
   },
   "outputs": [],
   "source": [
    "pyfiles = [name for name in os.listdir(r'c:\\Users\\Administrator\\Desktop')\n",
    "            if name.endswith('.lnk')]"
   ]
  },
  {
   "cell_type": "code",
   "execution_count": 7,
   "metadata": {},
   "outputs": [
    {
     "data": {
      "text/plain": [
       "['Axure RP.lnk',\n",
       " 'Fiddler 4.lnk',\n",
       " 'Foxmail.lnk',\n",
       " 'PyCharm.lnk',\n",
       " 'Sublime Text 3.lnk',\n",
       " 'Total Commander 64 bit.lnk',\n",
       " '东方财富.lnk',\n",
       " '赢顺通用版.lnk']"
      ]
     },
     "execution_count": 7,
     "metadata": {},
     "output_type": "execute_result"
    }
   ],
   "source": [
    "pyfiles"
   ]
  },
  {
   "cell_type": "code",
   "execution_count": 12,
   "metadata": {
    "collapsed": true
   },
   "outputs": [],
   "source": [
    "\n",
    "import glob\n",
    "pyfiles = glob.glob(r'd:\\aliyun\\github\\flask\\docs\\*.rst')"
   ]
  },
  {
   "cell_type": "code",
   "execution_count": 1,
   "metadata": {},
   "outputs": [],
   "source": [
    "def add(x:int, y:int) -> int:\n",
    "    return x + y"
   ]
  },
  {
   "cell_type": "code",
   "execution_count": 2,
   "metadata": {},
   "outputs": [
    {
     "name": "stdout",
     "output_type": "stream",
     "text": [
      "Help on function add in module __main__:\n",
      "\n",
      "add(x:int, y:int) -> int\n",
      "\n"
     ]
    }
   ],
   "source": [
    "help(add)"
   ]
  },
  {
   "cell_type": "code",
   "execution_count": 3,
   "metadata": {},
   "outputs": [
    {
     "data": {
      "text/plain": [
       "{'return': int, 'x': int, 'y': int}"
      ]
     },
     "execution_count": 3,
     "metadata": {},
     "output_type": "execute_result"
    }
   ],
   "source": [
    "add.__annotations__"
   ]
  },
  {
   "cell_type": "code",
   "execution_count": 5,
   "metadata": {},
   "outputs": [],
   "source": [
    "def myfun():\n",
    "    return 1, 2, 3"
   ]
  },
  {
   "cell_type": "code",
   "execution_count": 6,
   "metadata": {},
   "outputs": [
    {
     "data": {
      "text/plain": [
       "(1, 2, 3)"
      ]
     },
     "execution_count": 6,
     "metadata": {},
     "output_type": "execute_result"
    }
   ],
   "source": [
    "myfun()"
   ]
  },
  {
   "cell_type": "code",
   "execution_count": 7,
   "metadata": {
    "collapsed": true
   },
   "outputs": [],
   "source": [
    "a, b, c = myfun()"
   ]
  },
  {
   "cell_type": "code",
   "execution_count": 8,
   "metadata": {},
   "outputs": [
    {
     "data": {
      "text/plain": [
       "1"
      ]
     },
     "execution_count": 8,
     "metadata": {},
     "output_type": "execute_result"
    }
   ],
   "source": [
    "a"
   ]
  },
  {
   "cell_type": "code",
   "execution_count": 9,
   "metadata": {},
   "outputs": [
    {
     "data": {
      "text/plain": [
       "2"
      ]
     },
     "execution_count": 9,
     "metadata": {},
     "output_type": "execute_result"
    }
   ],
   "source": [
    "b"
   ]
  },
  {
   "cell_type": "code",
   "execution_count": 10,
   "metadata": {},
   "outputs": [
    {
     "data": {
      "text/plain": [
       "3"
      ]
     },
     "execution_count": 10,
     "metadata": {},
     "output_type": "execute_result"
    }
   ],
   "source": [
    "c"
   ]
  },
  {
   "cell_type": "code",
   "execution_count": null,
   "metadata": {
    "collapsed": true
   },
   "outputs": [],
   "source": []
  }
 ],
 "metadata": {
  "kernelspec": {
   "display_name": "Python 3",
   "language": "python",
   "name": "python3"
  },
  "language_info": {
   "codemirror_mode": {
    "name": "ipython",
    "version": 3
   },
   "file_extension": ".py",
   "mimetype": "text/x-python",
   "name": "python",
   "nbconvert_exporter": "python",
   "pygments_lexer": "ipython3",
   "version": "3.6.1"
  }
 },
 "nbformat": 4,
 "nbformat_minor": 2
}
